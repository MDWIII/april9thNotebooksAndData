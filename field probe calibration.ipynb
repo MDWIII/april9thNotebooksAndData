{
 "cells": [
  {
   "cell_type": "code",
   "execution_count": 2,
   "metadata": {
    "collapsed": false
   },
   "outputs": [],
   "source": [
    "import numpy as np\n",
    "import uncertainties as u\n",
    "import matplotlib.pyplot as plt\n",
    "import scipy.stats as stats\n",
    "plt.rcParams['figure.figsize'] = (20, 16)\n",
    "%matplotlib inline"
   ]
  },
  {
   "cell_type": "markdown",
   "metadata": {},
   "source": [
    "Here is the total field from the Helmholtz coil where N is the nimber of turns on one side of the coil:\n",
    "$$B_y = \\frac{\\mu_0 N I R_z^2}{\\big(R_y^2 + R_z^2\\big)^\\frac{3}{2}}$$\n",
    "\n",
    "we want to calculate the ratio $$\\frac{R_z^2}{(R_y^2 + R_z^2)^\\frac{3}{2}}$$"
   ]
  },
  {
   "cell_type": "code",
   "execution_count": 3,
   "metadata": {
    "collapsed": false
   },
   "outputs": [
    {
     "name": "stdout",
     "output_type": "stream",
     "text": [
      "0.02274+/-0.00005 0.024389+/-0.000025\n",
      "30.098+/-0.030\n"
     ]
    }
   ],
   "source": [
    "m_0 = u.ufloat(4*np.pi*10**-7, 1e-15)\n",
    "N = u.ufloat(21, 0) # number of turns on one side\n",
    "\n",
    "radius = u.ufloat(22.743e-3, 0.05e-3)\n",
    "spacing = u.ufloat(24.389e-3, 0.025e-3)\n",
    "print(radius, spacing)\n",
    "\n",
    "R_x = radius\n",
    "R_y = (spacing/2)\n",
    "R_z = radius\n",
    "\n",
    "helmholtz_ratio = (R_z**2)/((R_y**2 + R_z**2)**(3/2))\n",
    "print(helmholtz_ratio)"
   ]
  },
  {
   "cell_type": "code",
   "execution_count": 10,
   "metadata": {
    "collapsed": false
   },
   "outputs": [
    {
     "name": "stdout",
     "output_type": "stream",
     "text": [
      "(7.943+/-0.008)e-04\n"
     ]
    }
   ],
   "source": [
    "h_coil_multiply_by_current_to_get_b = ((m_0 * N) * helmholtz_ratio)\n",
    "print(format(h_coil_multiply_by_current_to_get_b,'e'))"
   ]
  },
  {
   "cell_type": "markdown",
   "metadata": {
    "collapsed": true
   },
   "source": [
    "$$RMS = \\sqrt{(\\frac{\\partial B}{\\partial x}+\\Delta x)^2 + (\\frac{\\partial B}{\\partial y}+\\Delta y)^2}$$"
   ]
  },
  {
   "cell_type": "markdown",
   "metadata": {},
   "source": [
    "### Translational field gain and error anylisis"
   ]
  },
  {
   "cell_type": "code",
   "execution_count": 11,
   "metadata": {
    "collapsed": false
   },
   "outputs": [
    {
     "data": {
      "image/png": "[encoded data removed]",
      "text/plain": [
       "<matplotlib.figure.Figure at 0x108d2b7f0>"
      ]
     },
     "metadata": {},
     "output_type": "display_data"
    },
    {
     "name": "stdout",
     "output_type": "stream",
     "text": [
      "normal slope: (975.15132991045743, 0.016240000000000001, 0.99998074798269176, 2.8160372871939574e-52, 1.2617330808365836)\n",
      "plus slope: (991.25010505073749, 0.016240000000000001, 0.9999044482150804, 2.8232399794847306e-44, 2.8574908814501585)\n",
      "minus slope: (959.08469130993592, 0.016239999999999997, 0.99999209645522513, 1.0072504342924042e-56, 0.79509966799890486)\n"
     ]
    }
   ],
   "source": [
    "# import the translational data (small helmholtz coil data)\n",
    "helmholtz_data = np.genfromtxt('trans_field.txt', delimiter= ',', skip_header= True)\n",
    "\n",
    "h_coil_current = helmholtz_data[:,0] # separate out the current data\n",
    "\n",
    "# now we gererate an array of ufloats so we can propogate the error in the b field into the calibration data\n",
    "h_coil_current_with_error = []\n",
    "for i in range(len(h_coil_current)):\n",
    "    current_with_error = u.ufloat(h_coil_current[i], 0.0005) # +/- .5 mA\n",
    "    h_coil_current_with_error.append(current_with_error) \n",
    "\n",
    "h_coil_b = h_coil_current * h_coil_multiply_by_current_to_get_b\n",
    "#print(h_coil_b)\n",
    "   \n",
    "    \n",
    "# make an errorbar plot:\n",
    "h_coil_voltage = helmholtz_data[:,1] #extract the voltage data\n",
    "\n",
    "# extract error and values from the b field so we can plot it\n",
    "h_coil_b_field_error = [val.s for val in h_coil_b]\n",
    "h_coil_b_field_values = [val.n for val in h_coil_b]\n",
    "\n",
    "plt.figure(figsize = (20,8))\n",
    "plt.errorbar(h_coil_b_field_values, \n",
    "             h_coil_voltage, \n",
    "             xerr = h_coil_b_field_error, \n",
    "             yerr = 0.005, marker = 'None', \n",
    "             linestyle= 'None')\n",
    "plt.show()\n",
    "\n",
    "'''\n",
    "uncertain_current = []\n",
    "uncertain_voltage = []\n",
    "# add uncertinties to the current (convert to ufloat):\n",
    "for i in h_coil_current:\n",
    "    uncertain_current.append(0.0005) # +/- .5 mA\n",
    "\n",
    "h_coil_sensor_output_voltage = helmholtz_data[:,1]\n",
    "for i in h_coil_voltage:\n",
    "    uncertain_voltage.append(0.005) # +/- 5 mV\n",
    "'''\n",
    "\n",
    "    \n",
    "# compute the slope by fitting a line:\n",
    "#slope, intercept, rvalue, pvalue, sterr = \n",
    "print(\"normal slope: \" + str(stats.linregress(h_coil_b_field_values,h_coil_voltage)))\n",
    "\n",
    "# find the worst case slopes\n",
    "plusField = []\n",
    "minusField = []\n",
    "plusVolts = []\n",
    "minusVolts = []\n",
    "for i in range(len(h_coil_b_field_values)):\n",
    "    if h_coil_b_field_values[i] > 0:\n",
    "        plusField.append(h_coil_b_field_values[i]-h_coil_b_field_error[i])\n",
    "        minusField.append(h_coil_b_field_values[i]+h_coil_b_field_error[i])\n",
    "        plusVolts.append(h_coil_voltage[i]+0.005)\n",
    "        minusVolts.append(h_coil_voltage[i]-0.005)\n",
    "    elif h_coil_b_field_values[i] < 0:\n",
    "        plusField.append(h_coil_b_field_values[i]+h_coil_b_field_error[i])\n",
    "        minusField.append(h_coil_b_field_values[i]-h_coil_b_field_error[i])\n",
    "        plusVolts.append(h_coil_voltage[i]-0.005)\n",
    "        minusVolts.append(h_coil_voltage[i]+0.005)\n",
    "    elif h_coil_b_field_values[i] == 0:\n",
    "        plusField.append(h_coil_b_field_values[i])\n",
    "        minusField.append(h_coil_b_field_values[i])\n",
    "        plusVolts.append(h_coil_voltage[i])\n",
    "        minusVolts.append(h_coil_voltage[i])\n",
    "        \n",
    "print('plus slope: ' + str(stats.linregress(plusField,plusVolts)))\n",
    "\n",
    "print('minus slope: ' + str(stats.linregress(minusField,minusVolts)))\n",
    "\n",
    "#print(h_coil_b_field_error)\n",
    "\n"
   ]
  },
  {
   "cell_type": "markdown",
   "metadata": {
    "collapsed": true
   },
   "source": [
    " create sorst case scinario data to find the +- error on our sensor calibration: \n",
    "\n",
    "we find the translational sensor gain to be: $975 \\pm 20 \\frac{V}{T}$\n"
   ]
  },
  {
   "cell_type": "markdown",
   "metadata": {},
   "source": [
    "### Radial Field Sensor Calibration\n",
    "\n",
    "We also used the old solinoid (575 turns) from our previous LRC experement to calibrate the radial component of the hall probe:\n",
    "\n",
    "The equation for the field in a solinoid is:\n",
    "$$B = \\mu_0 N I$$"
   ]
  },
  {
   "cell_type": "code",
   "execution_count": 12,
   "metadata": {
    "collapsed": false
   },
   "outputs": [
    {
     "name": "stdout",
     "output_type": "stream",
     "text": [
      "(7.2257+/-0.0013)e-04 T/A\n"
     ]
    }
   ],
   "source": [
    "N_s = u.ufloat(575, 0.1)\n",
    "solenoid_multiply_by_current_to_get_b = (m_0 * N_s)\n",
    "#solenoid_multiply_by_current_to_get_b = (4*np.pi*1e-7) * 575\n",
    "print(format(solenoid_multiply_by_current_to_get_b,'e')+ ' T/A')"
   ]
  },
  {
   "cell_type": "code",
   "execution_count": 13,
   "metadata": {
    "collapsed": false
   },
   "outputs": [
    {
     "name": "stdout",
     "output_type": "stream",
     "text": [
      "[[ 0.     0.015]\n",
      " [ 0.25   0.37 ]\n",
      " [ 0.53   0.768]\n",
      " [ 0.7    1.003]\n",
      " [ 1.08   1.535]\n",
      " [ 1.25   1.776]\n",
      " [ 1.55   2.186]\n",
      " [ 1.74   2.456]\n",
      " [ 2.06   2.899]\n",
      " [ 2.26   3.181]\n",
      " [ 2.52   3.546]\n",
      " [ 2.77   3.889]\n",
      " [ 3.05   4.295]\n",
      " [ 0.     0.013]\n",
      " [-3.05  -4.255]\n",
      " [-0.25  -0.339]\n",
      " [-2.75  -3.834]\n",
      " [-0.5   -0.69 ]\n",
      " [-2.5   -3.486]\n",
      " [-0.75  -1.042]\n",
      " [-2.25  -3.148]\n",
      " [-1.    -1.396]\n",
      " [-2.    -2.793]\n",
      " [-1.25  -1.745]\n",
      " [-1.75  -2.448]\n",
      " [-1.5   -2.098]\n",
      " [-3.05  -4.266]]\n",
      "[0.0+/-3.6128315516282623e-07, 0.0001806415775814131+/-3.6264649266818556e-07, 0.00038296014447259584+/-3.6737081158759095e-07, 0.0005057964172279567+/-3.7183771736474345e-07, 0.0007803716151517047+/-3.859333734238093e-07, 0.0009032078879070655+/-3.9395371454987804e-07, 0.0011199777810047614+/-4.1044400047142685e-07, 0.0012572653799666352+/-4.2229783454451767e-07, 0.0014884865992708441+/-4.4445220596162003e-07, 0.0016329998613359743+/-4.595448884586813e-07, 0.0018208671020206442+/-4.804237873673523e-07, 0.0020015086796020573+/-5.0168824819955e-07, 0.0022038272464932397+/-5.26711220796839e-07, 0.0+/-3.6128315516282623e-07, -0.0022038272464932397+/-5.26711220796839e-07, -0.0001806415775814131+/-3.6264649266818556e-07, -0.001987057353395544+/-4.999477287278025e-07, -0.0003612831551628262+/-3.6670609480198874e-07, -0.001806415775814131+/-4.787708869776512e-07, -0.0005419247327442394+/-3.7337402449229534e-07, -0.001625774198232718+/-4.5876934711781295e-07, -0.0007225663103256524+/-3.82513902030345e-07, -0.0014451326206513049+/-4.4010338146019873e-07, -0.0009032078879070655+/-3.9395371454987804e-07, -0.0012644910430698918+/-4.2294985491279834e-07, -0.0010838494654884787+/-4.074998086491236e-07, -0.0022038272464932397+/-5.26711220796839e-07]\n",
      "normal slope: (1940.9526463592927, 0.013889120660684123, 0.99999736137274153, 1.6932561855178522e-67, 0.89176375175785394)\n"
     ]
    },
    {
     "data": {
      "image/png": "[encoded data removed]",
      "text/plain": [
       "<matplotlib.figure.Figure at 0x1082a04a8>"
      ]
     },
     "metadata": {},
     "output_type": "display_data"
    },
    {
     "data": {
      "text/plain": [
       "'\\nuncertain_current = []\\nuncertain_voltage = []\\n# add uncertinties to the current (convert to ufloat):\\nfor i in h_coil_current:\\n    uncertain_current.append(0.0005) # +/- .5 mA\\n\\nh_coil_sensor_output_voltage = helmholtz_data[:,1]\\nfor i in h_coil_voltage:\\n    uncertain_voltage.append(0.005) # +/- 5 mV\\n'"
      ]
     },
     "execution_count": 13,
     "metadata": {},
     "output_type": "execute_result"
    }
   ],
   "source": [
    "# import the radial data (solenoid coil data)\n",
    "solenoid_data = np.genfromtxt('radial_field.txt', delimiter= ',', skip_header= True)\n",
    "print(solenoid_data)\n",
    "\n",
    "solenoid_current = solenoid_data[:,0] # separate out the current data\n",
    "#print(solenoid_current)\n",
    "\n",
    "# now we gererate an array of ufloats so we can propogate the error in the b field into the calibration data\n",
    "solenoid_current_with_error = []\n",
    "for i in range(len(solenoid_current)):\n",
    "    current_with_error = u.ufloat(solenoid_current[i], 0.0005) # +/- .5 mA\n",
    "    solenoid_current_with_error.append(current_with_error) \n",
    "\n",
    "solenoid_b = []\n",
    "for i in range(len(solenoid_current_with_error)):\n",
    "    solenoid_b.append(solenoid_current_with_error[i] * solenoid_multiply_by_current_to_get_b)\n",
    "print(solenoid_b)\n",
    "   \n",
    "    \n",
    "# make an errorbar plot:\n",
    "solenoid_voltage = solenoid_data[:,1] #extract the voltage data\n",
    "\n",
    "# extract error and values from the b field so we can plot it\n",
    "solenoid_b_field_error = [val.s for val in solenoid_b]\n",
    "solenoid_b_field_values = [val.n for val in solenoid_b]\n",
    "\n",
    "print(\"normal slope: \" + str(stats.linregress(solenoid_b_field_values, solenoid_voltage)))\n",
    "\n",
    "\n",
    "plt.figure(figsize = (20,8))\n",
    "plt.xlabel('magnetic field')\n",
    "plt.ylabel('sensor voltage')\n",
    "plt.errorbar(solenoid_b_field_values, \n",
    "             solenoid_voltage, \n",
    "             xerr = solenoid_b_field_error, \n",
    "             yerr = 0.005, marker = 'None', \n",
    "             linestyle= 'None')\n",
    "plt.show()\n",
    "\n",
    "'''\n",
    "uncertain_current = []\n",
    "uncertain_voltage = []\n",
    "# add uncertinties to the current (convert to ufloat):\n",
    "for i in h_coil_current:\n",
    "    uncertain_current.append(0.0005) # +/- .5 mA\n",
    "\n",
    "h_coil_sensor_output_voltage = helmholtz_data[:,1]\n",
    "for i in h_coil_voltage:\n",
    "    uncertain_voltage.append(0.005) # +/- 5 mV\n",
    "'''\n",
    "\n",
    "    \n",
    "# compute the slope by fitting a line:\n",
    "#slope, intercept, rvalue, pvalue, sterr = \n",
    "\n",
    "\n",
    "\n",
    "#print(h_coil_b_field_error)\n",
    "\n"
   ]
  },
  {
   "cell_type": "markdown",
   "metadata": {
    "collapsed": true
   },
   "source": [
    "for the radial field component the gain and error is: $1940 \\pm 5$ Volts per Tesla"
   ]
  },
  {
   "cell_type": "code",
   "execution_count": null,
   "metadata": {
    "collapsed": true
   },
   "outputs": [],
   "source": []
  }
 ],
 "metadata": {
  "kernelspec": {
   "display_name": "Python 3",
   "language": "python",
   "name": "python3"
  },
  "language_info": {
   "codemirror_mode": {
    "name": "ipython",
    "version": 3
   },
   "file_extension": ".py",
   "mimetype": "text/x-python",
   "name": "python",
   "nbconvert_exporter": "python",
   "pygments_lexer": "ipython3",
   "version": "3.4.4"
  }
 },
 "nbformat": 4,
 "nbformat_minor": 0
}
